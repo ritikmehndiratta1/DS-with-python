{
 "cells": [
  {
   "cell_type": "markdown",
   "metadata": {},
   "source": [
    "# Largest Continuous Sum"
   ]
  },
  {
   "cell_type": "markdown",
   "metadata": {},
   "source": [
    "# Problem\n",
    "Given an array of integers (positive and negative) find the largest continuous sum.\n",
    "\n",
    "For example: the largest continuous sum of the array [1,2,-1,3,4,10,-10,-1,9] is 29."
   ]
  },
  {
   "cell_type": "markdown",
   "metadata": {},
   "source": [
    "# Solution 1\n",
    "Take a temporary lsum variable and set it to 0. As we go through every element of the array determine the maximum of lsum and lsum + array element.\n",
    "Apart for setting the lsum variable to 0, somewhere it can be given as lsum=arr[0]. While this maybe correct in some cases, however if all the elements of the array are negative then the largest sum would come out to be the first element of the array which is negative."
   ]
  },
  {
   "cell_type": "code",
   "execution_count": 14,
   "metadata": {},
   "outputs": [],
   "source": [
    "def largest_sum(arr):\n",
    "    \n",
    "    if len(arr)==0:\n",
    "        return 0\n",
    "    \n",
    "    lsum=0\n",
    "    for num in arr:\n",
    "        lsum = max(lsum,lsum + num)\n",
    "    \n",
    "    return lsum"
   ]
  },
  {
   "cell_type": "markdown",
   "metadata": {},
   "source": [
    "# Solution 2\n",
    "Another solution can be to add only the positive integers."
   ]
  },
  {
   "cell_type": "code",
   "execution_count": 18,
   "metadata": {},
   "outputs": [],
   "source": [
    "def largest_sum1(arr):\n",
    "    \n",
    "    if len(arr)==0:\n",
    "        return 0\n",
    "    \n",
    "    lsum=0\n",
    "    for num in arr:\n",
    "        if(num >= 0):\n",
    "            lsum+=num\n",
    "    \n",
    "    return lsum"
   ]
  }
 ],
 "metadata": {
  "kernelspec": {
   "display_name": "Python 3",
   "language": "python",
   "name": "python3"
  },
  "language_info": {
   "codemirror_mode": {
    "name": "ipython",
    "version": 3
   },
   "file_extension": ".py",
   "mimetype": "text/x-python",
   "name": "python",
   "nbconvert_exporter": "python",
   "pygments_lexer": "ipython3",
   "version": "3.7.3"
  }
 },
 "nbformat": 4,
 "nbformat_minor": 2
}
