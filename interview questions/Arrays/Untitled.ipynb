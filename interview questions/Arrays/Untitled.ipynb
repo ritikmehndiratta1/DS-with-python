{
 "cells": [
  {
   "cell_type": "markdown",
   "metadata": {},
   "source": [
    "# Anagram Check"
   ]
  },
  {
   "cell_type": "markdown",
   "metadata": {},
   "source": [
    "# Problem\n",
    "Given two strings check to see if they are anagrams.An anagram is a word or phrase formed by rearranging the letters of a different word or phrase, typically using all the original letters exactly once.\n",
    "\n",
    "Example: \"public relations\" is an anagram of \"crap built on lies\".\n",
    "\n",
    "Ignore the spaces and capitalization."
   ]
  },
  {
   "cell_type": "markdown",
   "metadata": {},
   "source": [
    "# Solution 1\n",
    "If both strings are equal to each other once they are sorted then they are anagrams."
   ]
  },
  {
   "cell_type": "code",
   "execution_count": 1,
   "metadata": {},
   "outputs": [],
   "source": [
    "def anagram1(s1,s2):\n",
    "    \n",
    "    s1=s1.replace(' ','')        #removing all the spaces\n",
    "    s1=s1.lower()                #lowercasing all the letters\n",
    "    s2=s2.replace(' ','').lower()   #same process for s2\n",
    "    \n",
    "    return sorted(s1) == sorted(s2)   #check to see if both the sorted strings are same or not"
   ]
  },
  {
   "cell_type": "markdown",
   "metadata": {},
   "source": [
    "# Solution 2\n",
    "Here we use dictionary to see if number of instances of a letter in string 1 equals that of string 2."
   ]
  },
  {
   "cell_type": "code",
   "execution_count": 7,
   "metadata": {},
   "outputs": [],
   "source": [
    "def anagram2(s1,s2):\n",
    "    s1=s1.replace(' ','').lower()\n",
    "    s2=s2.replace(' ','').lower()\n",
    "    \n",
    "    #if they don't have the same number of alphabets then surely they are not anagrams\n",
    "    if len(s1)!=len(s2):\n",
    "        return False\n",
    "    \n",
    "    dictionary={}\n",
    "    \n",
    "    for i in s1:\n",
    "        if i in dictionary:\n",
    "            dictionary[i]+=1\n",
    "        else:\n",
    "            dictionary[i]=1\n",
    "    \n",
    "    for i in s2:\n",
    "        if i in dictionary:\n",
    "            dictionary[i]-=1\n",
    "        \n",
    "    for k in dictionary:\n",
    "        if dictionary[k]!=0:\n",
    "            return False\n",
    "    \n",
    "    return True"
   ]
  }
 ],
 "metadata": {
  "kernelspec": {
   "display_name": "Python 3",
   "language": "python",
   "name": "python3"
  },
  "language_info": {
   "codemirror_mode": {
    "name": "ipython",
    "version": 3
   },
   "file_extension": ".py",
   "mimetype": "text/x-python",
   "name": "python",
   "nbconvert_exporter": "python",
   "pygments_lexer": "ipython3",
   "version": "3.7.3"
  }
 },
 "nbformat": 4,
 "nbformat_minor": 2
}
