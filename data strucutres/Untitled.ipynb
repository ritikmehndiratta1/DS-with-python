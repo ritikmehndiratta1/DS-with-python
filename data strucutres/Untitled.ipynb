{
 "cells": [
  {
   "cell_type": "markdown",
   "metadata": {},
   "source": [
    "# Dynamic Array"
   ]
  },
  {
   "cell_type": "code",
   "execution_count": 8,
   "metadata": {},
   "outputs": [],
   "source": [
    "import ctypes\n",
    "\n",
    "class DynamicArray(object):\n",
    "    \n",
    "    def public(self):\n",
    "        print(\"\"\"\n",
    "        For any dynamic array A,\n",
    "        \n",
    "        A=DynamicArray()\n",
    "        \n",
    "        A.capacity : prints the capacity of the dynamic array\n",
    "        A.n : prints the number of elements in the array\n",
    "        A.__len__() : returns the number of elements in the array\n",
    "        A.__getitem__(k) : gets the element at kth index\n",
    "        A[k] : an altenate way to get the element at the kth index\n",
    "        A.append(n) :  appends the element n to the array\n",
    "        A.resize(new_capacity) : resizes the array to be one of the required capacity\n",
    "        self.make_array(new_cap) : used to initailize a fixed capacity/size array\n",
    "        \"\"\")        \n",
    "    \n",
    "    def __init__(self):\n",
    "        self.n=0\n",
    "        self.capacity=1\n",
    "        self.A=self.make_array(self.capacity)\n",
    "    \n",
    "    def __len__(self):\n",
    "        return self.n\n",
    "    \n",
    "    def __getitem__(self,k):\n",
    "        if not 0 <= k < self.n:\n",
    "            return IndexError('k index is out of bounds')\n",
    "        \n",
    "        return self.A[k]\n",
    "    \n",
    "    def append(self,ele):\n",
    "        if self.n == self.capacity:\n",
    "            self._resize(2*self.capacity)\n",
    "        \n",
    "        self.A[self.n] = ele\n",
    "        self.n += 1\n",
    "        \n",
    "    def _resize(self,new_cap):\n",
    "        B = self.make_array(new_cap)\n",
    "        for k in range(self.n):\n",
    "            B[k]=self.A[k]\n",
    "        self.A=B\n",
    "        self.capacity=new_cap\n",
    "    \n",
    "    def make_array(self,new_cap):\n",
    "        return(new_cap*ctypes.py_object)()\n",
   ]
  },
 ],
 "metadata": {
  "kernelspec": {
   "display_name": "Python 3",
   "language": "python",
   "name": "python3"
  },
  "language_info": {
   "codemirror_mode": {
    "name": "ipython",
    "version": 3
   },
   "file_extension": ".py",
   "mimetype": "text/x-python",
   "name": "python",
   "nbconvert_exporter": "python",
   "pygments_lexer": "ipython3",
   "version": "3.7.3"
  }
 },
 "nbformat": 4,
 "nbformat_minor": 2
}
